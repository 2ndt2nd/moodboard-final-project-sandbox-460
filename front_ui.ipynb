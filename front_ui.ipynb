{
 "cells": [
  {
   "cell_type": "markdown",
   "metadata": {},
   "source": [
    "# Pipeline Overview\n",
    "\n",
    "#### 1. Use CLIP to Generate Tags:\n",
    "\n",
    "Use CLIP to generate descriptive tags for your moodboard images.\n",
    "\n",
    "#### 2.Search for Similar Images Using Yandex:\n",
    "\n",
    "Use the generated tags to perform a reverse image search on Yandex.\n",
    "\n",
    "#### 3.Build a Basic Interface:\n",
    "\n",
    "Create a Python interface where you can right-click on images to search for similar ones."
   ]
  },
  {
   "cell_type": "markdown",
   "metadata": {},
   "source": [
    "### Step 1: Use CLIP to Generate Tags"
   ]
  },
  {
   "cell_type": "code",
   "execution_count": null,
   "metadata": {},
   "outputs": [],
   "source": [
    "%pip install torch torchvision transformers pillow requests"
   ]
  },
  {
   "cell_type": "markdown",
   "metadata": {},
   "source": [
    "### Python Code for CLIP Tag Generation"
   ]
  },
  {
   "cell_type": "code",
   "execution_count": null,
   "metadata": {},
   "outputs": [],
   "source": [
    "import torch\n",
    "from PIL import Image\n",
    "from transformers import CLIPProcessor, CLIPModel\n",
    "\n",
    "# Load pre-trained CLIP model and processor\n",
    "model = CLIPModel.from_pretrained(\"openai/clip-vit-base-patch32\")\n",
    "processor = CLIPProcessor.from_pretrained(\"openai/clip-vit-base-patch32\")\n",
    "\n",
    "# Load your moodboard image\n",
    "image = Image.open(\"moodboard_image.jpg\")\n",
    "\n",
    "# Define possible tags (you can customize this list)\n",
    "tags = [\"fantasy\", \"cyberpunk\", \"landscape\", \"portrait\", \"anime\", \"realistic\", \"dark\", \"bright\", \"minimalist\", \"detailed\"]\n",
    "\n",
    "# Process the image and tags\n",
    "inputs = processor(text=tags, images=image, return_tensors=\"pt\", padding=True)\n",
    "\n",
    "# Get CLIP embeddings\n",
    "with torch.no_grad():\n",
    "    outputs = model(**inputs)\n",
    "    logits_per_image = outputs.logits_per_image  # Image-text similarity scores\n",
    "    probs = logits_per_image.softmax(dim=1)     # Convert to probabilities\n",
    "\n",
    "# Get top tags\n",
    "top_k = 5  # Number of top tags to retrieve\n",
    "top_probs, top_indices = probs.topk(top_k, dim=1)\n",
    "\n",
    "# Print top tags\n",
    "for i in range(top_k):\n",
    "    print(f\"Tag: {tags[top_indices[0][i]]}, Probability: {top_probs[0][i].item():.4f}\")"
   ]
  },
  {
   "cell_type": "markdown",
   "metadata": {},
   "source": [
    "### Step 2: Search for Similar Images Using Yandex\n",
    "To automate Yandex reverse image search, you can use the requests library to upload the image and scrape the results."
   ]
  },
  {
   "cell_type": "code",
   "execution_count": null,
   "metadata": {},
   "outputs": [],
   "source": [
    "import requests\n",
    "from bs4 import BeautifulSoup\n",
    "\n",
    "def yandex_reverse_image_search(image_path):\n",
    "    # Yandex reverse image search URL\n",
    "    url = \"https://yandex.com/images/search\"\n",
    "\n",
    "    # Open the image file\n",
    "    with open(image_path, \"rb\") as image_file:\n",
    "        # Upload the image to Yandex\n",
    "        response = requests.post(url, files={\"upfile\": image_file})\n",
    "\n",
    "    # Parse the response (this is a simplified example)\n",
    "    soup = BeautifulSoup(response.text, \"html.parser\")\n",
    "    results = soup.find_all(\"img\", class_=\"serp-item__thumb\")  # Adjust based on Yandex's HTML structure\n",
    "\n",
    "    # Extract image URLs\n",
    "    similar_images = [img[\"src\"] for img in results]\n",
    "    return similar_images\n",
    "\n",
    "# Example usage\n",
    "image_path = \"moodboard_image.jpg\"\n",
    "similar_images = yandex_reverse_image_search(image_path)\n",
    "print(\"Similar Images:\", similar_images)"
   ]
  },
  {
   "cell_type": "markdown",
   "metadata": {},
   "source": [
    "### Step 3: Build a Basic Interface\n",
    "You can use tkinter to create a simple interface where you can right-click on images to search for similar ones."
   ]
  },
  {
   "cell_type": "code",
   "execution_count": null,
   "metadata": {},
   "outputs": [],
   "source": [
    "import tkinter as tk\n",
    "from tkinter import filedialog\n",
    "from PIL import Image, ImageTk\n",
    "import requests\n",
    "from io import BytesIO\n",
    "\n",
    "# Function to handle right-click event\n",
    "def search_similar_images(event):\n",
    "    # Get the image path\n",
    "    image_path = \"moodboard_image.jpg\"  # Replace with your image path\n",
    "\n",
    "    # Perform Yandex reverse image search\n",
    "    similar_images = yandex_reverse_image_search(image_path)\n",
    "\n",
    "    # Display the first similar image (for demonstration)\n",
    "    if similar_images:\n",
    "        response = requests.get(similar_images[0])\n",
    "        img = Image.open(BytesIO(response.content))\n",
    "        img = img.resize((200, 200), Image.ANTIALIAS)\n",
    "        img_tk = ImageTk.PhotoImage(img)\n",
    "        similar_image_label.config(image=img_tk)\n",
    "        similar_image_label.image = img_tk\n",
    "\n",
    "# Create the main window\n",
    "root = tk.Tk()\n",
    "root.title(\"Moodboard Image Search\")\n",
    "\n",
    "# Load and display the moodboard image\n",
    "image = Image.open(\"moodboard_image.jpg\")\n",
    "image = image.resize((400, 400), Image.ANTIALIAS)\n",
    "image_tk = ImageTk.PhotoImage(image)\n",
    "image_label = tk.Label(root, image=image_tk)\n",
    "image_label.pack()\n",
    "\n",
    "# Bind right-click event to the image\n",
    "image_label.bind(\"<Button-3>\", search_similar_images)\n",
    "\n",
    "# Label to display similar images\n",
    "similar_image_label = tk.Label(root)\n",
    "similar_image_label.pack()\n",
    "\n",
    "# Run the application\n",
    "root.mainloop()"
   ]
  },
  {
   "cell_type": "markdown",
   "metadata": {},
   "source": [
    "## How It Works\n",
    "\n",
    "### CLIP Tag Generation:\n",
    "CLIP generates descriptive tags for your moodboard image.\n",
    "\n",
    "### Yandex Reverse Image Search:\n",
    "The image is uploaded to Yandex, and similar images are retrieved.\n",
    "\n",
    "<h1>Basic Interface:</h1>\n",
    "<ul><li>A tkinter window displays the moodboard image.</li>\n",
    "<li>Right-clicking on the image triggers a Yandex reverse image search.</li>\n",
    "<li>The first similar image is displayed in the interface.</li></ul>\n",
    "\n",
    "## How It Works\n",
    "\n",
    "### Improve Yandex Scraping:\n",
    "CLIP generates descriptive tags for your moodboard image.\n",
    "\n",
    "### Enhance the Interface:\n",
    "The image is uploaded to Yandex, and similar images are retrieved.\n",
    "\n",
    "### Optimize CLIP:\n",
    "Fine-tune CLIP on a custom dataset for better tag generation.\n"
   ]
  }
 ],
 "metadata": {
  "kernelspec": {
   "display_name": "Python 3",
   "language": "python",
   "name": "python3"
  },
  "language_info": {
   "name": "python",
   "version": "3.8.18"
  }
 },
 "nbformat": 4,
 "nbformat_minor": 2
}
